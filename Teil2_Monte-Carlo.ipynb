{
 "cells": [
  {
   "cell_type": "markdown",
   "id": "58038aab",
   "metadata": {},
   "source": [
    "# Integration mittels Monte-Carlo-Simulation\n",
    "\n",
    "Erweiterung von Teil 1 um eine [Monte-Carlo-Simulation](https://mathepedia.de/Monte-Carlo-Methode.html). "
   ]
  },
  {
   "cell_type": "code",
   "execution_count": 2,
   "id": "9b3959af",
   "metadata": {},
   "outputs": [
    {
     "name": "stdout",
     "output_type": "stream",
     "text": [
      "10.95\n",
      "10.049999999999999\n"
     ]
    }
   ],
   "source": [
    "class Integration:\n",
    "    def __init__(self, function):\n",
    "        self.function = function\n",
    "\n",
    "    def evalFunctionAt(self, x):\n",
    "        return x\n",
    "\n",
    "    def untersumme(self, start, end, n):\n",
    "        sum = 0\n",
    "        width = abs(start - end) / n\n",
    "        for i in range(n):\n",
    "            x = start + i * width\n",
    "            sum += self.evalFunctionAt(x) * width\n",
    "        return sum\n",
    "    \n",
    "    def obersumme(self, start, end, n):\n",
    "        sum = 0\n",
    "        width = abs(start - end) / n\n",
    "        for i in range(1, n+1):\n",
    "            x = start + i * width\n",
    "            sum += self.evalFunctionAt(x) * width\n",
    "        return sum\n",
    "    \n",
    "i = Integration(\"x^2\")\n",
    "print(i.obersumme(2, 5, 10))\n",
    "print(i.untersumme(2, 5, 10))"
   ]
  },
  {
   "cell_type": "markdown",
   "id": "e9d18194",
   "metadata": {},
   "source": [
    "Test\n",
    "### Ursprung der Monte-Carlo-Simulation\n",
    "Die Monte-Carlo-Simulation wurde während des Manhatten-Projektes von John von Neumann und Stanislav Ulam entwickelt, ursprünglich um die Eigenschaften von Neutronenwanderung durch Strahlungsabschirmung zu untersuchen. Später kamen immer mehr Anwendungsgebiete hinzu.\n",
    "Der Name rührt vom berühmten Kasion in Monaco, da beide (Mehtode und Kasino) randomisierte Zahlen und Zufallsstichproben benötigen. [1]"
   ]
  },
  {
   "cell_type": "markdown",
   "id": "ecf3b4ca",
   "metadata": {},
   "source": [
    "### Anwendung Monte-Carlo-Simulation\n",
    "- Numerische Lösungen von Integralen (v.a. komplexe Integrale)\n",
    "- Simulation von dynamischen Prozessen (Wetter, Produktionsabläufe)\n",
    "- Simulation von Gleichgewischtszuständen (neuronale Netze)\n",
    "- Statische Untersuchung vn Zufallsverteilungen (erhöhte Genauigkeit der Messfehler bei Experimenten durch häufiges simulieren des Experiments)\n",
    "\n",
    "<p>MCS wird vor allem bei komplexen Aufgaben, die eigentlich eine hohe Rechenleistung erfordern verwendet</p> [2]"
   ]
  },
  {
   "cell_type": "markdown",
   "id": "6399bcc6",
   "metadata": {},
   "source": [
    "### Einfaches Anwendungsbeispiel: Buffonsches Nadelexperiment\n",
    "Dieses Experiment dient der Bestimmung von $\\pi$. In diesem Experiment werden viele Nadeln (damals Baguettes) geworfen und anschließend gezählt wie viele Nadeln eine Linie berühren und wieviele nicht. Die Wahrscheinlichkeit, dass eine Nadel die Linie kreuzt hängt, durch den Wurf, mit der Rotationssymmetrie der Nadelorientierung von $\\pi$ zusammen. \n",
    "- $p = \\frac{2l}{g\\pi} \\Rightarrow \\pi=\\frac{2l}{gp} $\n",
    "- g ist Abstand der Linien, l ist Länge der Nadeln\n",
    "[3]"
   ]
  },
  {
   "cell_type": "markdown",
   "id": "39180e98",
   "metadata": {},
   "source": [
    "![title](img/needles.gif) [4]"
   ]
  },
  {
   "cell_type": "markdown",
   "id": "16b3d322",
   "metadata": {},
   "source": [
    "#### Hit-or-Miss Methode Funktionsprinzip:\n",
    "- Generierung einer geometrischen Form (meist ein Rechteck) in welchem die Funktion integriert werden soll\n",
    "- Generierung von zufälligen Punkten innerhalb dieser Form\n",
    "- Zählen der Punkte die innerhalb der Funktion liegen (Treffer)\n",
    "- Integral durch das Verhältnis von Treffern zu allen anderen Punkten und der Fläche des Rechtecks geschätzt [5]\n",
    "\n",
    "#### Hit-or-Miss Methode Nachteile:\n",
    "- Erfordert viele zufällige Punkte um eine angemessene Genauigkeit zu erzielen [5]\n",
    "\n",
    "\n",
    "#### Direkte Methode Funktionsprinzip:\n",
    "- Generierung von zufälligen Punkten innerhalb des Integrationsbereichs\n",
    "- Berechnung des Funktionswertes an diesen Punkten\n",
    "- Schätzung des Integrals durch die Summe der Funktionswerte und der mittleren Fläche aller Punkte [5]"
   ]
  },
  {
   "cell_type": "markdown",
   "id": "0be5be80",
   "metadata": {},
   "source": [
    "### Mathematische Aspekte\n",
    "- direkt $$\\int_{a}^b f(x)\\,dx \\approx\\,(b-a) \\cdot \\frac{1}{N} \\sum_{i=1}^N f(x_i)$$ $$mit\\,x_i \\in [a,b]\\,zufällig\\,gezogen$$\n",
    "- hit-or-miss $$A = RA \\cdot (hits/all\\,points)$$"
   ]
  },
  {
   "cell_type": "code",
   "execution_count": 9,
   "id": "83fe96af",
   "metadata": {},
   "outputs": [
    {
     "name": "stdout",
     "output_type": "stream",
     "text": [
      "Monte-Carlo-Schätzwert des Integrals: 0.33549393774845215\n"
     ]
    }
   ],
   "source": [
    "import numpy as np\n",
    "# Beispiel-Funktion\n",
    "def f(x):\n",
    "    return x**2  # Beispiel: f(x) = x^2\n",
    "\n",
    "a, b = 0, 1  # Integrationsgrenzen\n",
    "N = 10000    # Anzahl der Zufallspunkte\n",
    "\n",
    "xRandom = np.random.uniform(a, b, N)\n",
    "integralEstimate = (b - a) * np.mean(f(xRandom))\n",
    "print(f\"Monte-Carlo-Schätzwert des Integrals: {integralEstimate}\")"
   ]
  },
  {
   "cell_type": "code",
   "execution_count": null,
   "id": "50397b1e",
   "metadata": {},
   "outputs": [
    {
     "name": "stdout",
     "output_type": "stream",
     "text": [
      "manual:  0.4994000\n",
      "explorative:  0.4914853\n",
      "\n",
      "\n",
      "manual:  0.0100000\n",
      "explorative: -0.0032358\n",
      "\n",
      "\n",
      "manual:  4.9214782\n",
      "explorative:  4.9291636\n",
      "\n",
      "\n",
      "manual:  4.9214782\n",
      "explorative:  4.5042901\n"
     ]
    }
   ],
   "source": [
    "import random\n",
    "import math\n",
    "\n",
    "class MCIntegration(Integration):\n",
    "    def __init__(self, function):\n",
    "        super().__init__(function)\n",
    "\n",
    "    #estimatig bounds using \"random\" sampling\n",
    "    def estimateBounds(self, start, end, samples=1000):\n",
    "        xs = [random.uniform(start, end) for _ in range(samples)]\n",
    "        ys = [self.evalFunctionAt(x) for x in xs]\n",
    "        return min(ys), max(ys)\n",
    "\n",
    "    def MCSHitOrMiss(self, start, end, numSamples=10000, fMinManual=None, fMaxManual=None):\n",
    "        if start >= end:\n",
    "            raise ValueError(\"start limit must be smaller than end limit\")\n",
    "        \n",
    "        # defining limits of sampling-area\n",
    "        if fMinManual is not None and fMaxManual is not None:\n",
    "            fMin, fMax = fMinManual, fMaxManual\n",
    "        else:\n",
    "            fMin, fMax = self.estimateBounds(start, end)\n",
    "\n",
    "        # defining rectangle\n",
    "        rectYMin = min(0, fMin)\n",
    "        rectYMax = max(0, fMax)\n",
    "        rectArea = (end - start) * (rectYMax - rectYMin)\n",
    "\n",
    "        hits = 0\n",
    "\n",
    "        for _ in range(numSamples):\n",
    "            x = random.uniform(start, end)\n",
    "            y = random.uniform(rectYMin, rectYMax)\n",
    "            f_x = self.evalFunctionAt(x)\n",
    "\n",
    "            # check if dot is under/above the curve\n",
    "            if f_x >= 0 and 0 <= y <= f_x:\n",
    "                hits += 1\n",
    "            elif f_x < 0 and f_x <= y <= 0:\n",
    "                hits -= 1  # negativ unter x-Achse\n",
    "\n",
    "        estimatedIntegral = (hits / numSamples) * rectArea\n",
    "        return estimatedIntegral\n",
    "\n",
    "f = lambda x: x**2\n",
    "mc = MCIntegration(f)\n",
    "\n",
    "# manual y-limits\n",
    "resultManual = mc.MCSHitOrMiss(0, 1, numSamples=10000, fMinManual=0, fMaxManual=1)\n",
    "print(f\"manual: {resultManual: .7f}\")\n",
    "\n",
    "# explorative y-limits\n",
    "resultAuto = mc.MCSHitOrMiss(0, 1, numSamples=10000)\n",
    "print(f\"explorative: {resultAuto: .7f}\")\n",
    "\n",
    "print(\"\\n\")\n",
    "\n",
    "f2 = lambda x: x**3\n",
    "mc2 = MCIntegration(f2)\n",
    "resultManual2 = mc.MCSHitOrMiss(-1, 1, numSamples=100000, fMinManual=-1, fMaxManual=1)\n",
    "print(f\"manual: {resultManual2: .7f}\")\n",
    "\n",
    "resultAuto2 = mc.MCSHitOrMiss(-1,1, numSamples=100000)\n",
    "print(f\"explorative: {resultAuto2: .7f}\")\n",
    "\n",
    "print(\"\\n\")\n",
    "\n",
    "f3 = lambda x: math.sin(1/x)\n",
    "mc3 = MCIntegration(f3)\n",
    "resultManual3 = mc.MCSHitOrMiss(0, math.pi, numSamples=100000, fMinManual=0, fMaxManual=math.pi)\n",
    "print(f\"manual: {resultManual3: .7f}\")\n",
    "\n",
    "resultAuto3 = mc.MCSHitOrMiss(0, math.pi, numSamples=100000)\n",
    "print(f\"explorative: {resultAuto3: .7f}\")\n",
    "\n",
    "print(\"\\n\")\n",
    "\n",
    "f4 = lambda x: math.e**x\n",
    "mc4 = MCIntegration(f4)\n",
    "\n",
    "resultManual4 = mc.MCSHitOrMiss(0, 3, numSamples=100000, fMinManual=0, fMaxManual=150000)\n",
    "print(f\"manual: {resultManual3: .7f}\")\n",
    "\n",
    "resultAuto4 = mc.MCSHitOrMiss(0, 3, numSamples=100000)\n",
    "print(f\"explorative: {resultAuto4: .7f}\")\n"
   ]
  },
  {
   "cell_type": "markdown",
   "id": "ab8a0886",
   "metadata": {},
   "source": [
    "# Quellen\n",
    "<p><a href=\"https://homepage.univie.ac.at/franz.vesely/oslo_2005/neum_karch_web/sc/sim/sim.pdf\">[1] https://homepage.univie.ac.at/franz.vesely/oslo_2005/neum_karch_web/sc/sim/sim.pdf </a>(p. 1, entnommen am 10.07)</p>\n",
    "<p><a href=\"https://www.zeuthen.desy.de/~kolanosk/smd_ss08/skripte/mc.pdf\">[2] https://www.zeuthen.desy.de/~kolanosk/smd_ss08/skripte/mc.pdf </a>(p. 1, entnommen am 10.07)</p>\n",
    "<p><a href=\"https://imsc.uni-graz.at/baur/lehre/WS2013-Seminar/S15.pdf\">[3] https://imsc.uni-graz.at/baur/lehre/WS2013-Seminar/S15.pdf </a>(p. 6, entnommen am 10.07)</p>\n",
    "<p><a href=\"https://faculty.uml.edu/klevasseur/courses/m419/proj/buffon/buffon.html\">[4] https://faculty.uml.edu/klevasseur/courses/m419/proj/buffon/buffon.html </a>(entnommen am 10.07)</p>\n",
    "<p><a href=\"https://www.mathematik.tu-clausthal.de/interaktiv/integration/monte-carlo-integration\">[5] https://www.mathematik.tu-clausthal.de/interaktiv/integration/monte-carlo-integration </a>(entnommen am 10.07)</p>\n"
   ]
  }
 ],
 "metadata": {
  "kernelspec": {
   "display_name": "base",
   "language": "python",
   "name": "python3"
  },
  "language_info": {
   "codemirror_mode": {
    "name": "ipython",
    "version": 3
   },
   "file_extension": ".py",
   "mimetype": "text/x-python",
   "name": "python",
   "nbconvert_exporter": "python",
   "pygments_lexer": "ipython3",
   "version": "3.12.7"
  }
 },
 "nbformat": 4,
 "nbformat_minor": 5
}
