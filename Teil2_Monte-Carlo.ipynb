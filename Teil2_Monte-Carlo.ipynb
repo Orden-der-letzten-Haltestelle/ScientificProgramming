{
 "cells": [
  {
   "cell_type": "markdown",
   "id": "58038aab",
   "metadata": {},
   "source": [
    "# Integration mittels Monte-Carlo-Simulation\n",
    "\n",
    "Erweiterung von Teil 1 um eine [Monte-Carlo-Simulation](https://mathepedia.de/Monte-Carlo-Methode.html). \n",
    "\n",
    "Hier soll der Bereich (Obere und Untere Grenze) der Simulation entweder manuell gewählt werden oder durch den Algorithmus bestimmt werden."
   ]
  }
 ],
 "metadata": {
  "language_info": {
   "name": "python"
  }
 },
 "nbformat": 4,
 "nbformat_minor": 5
}
