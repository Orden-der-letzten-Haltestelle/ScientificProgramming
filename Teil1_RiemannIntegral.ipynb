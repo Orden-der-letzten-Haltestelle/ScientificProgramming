{
 "cells": [
  {
   "cell_type": "markdown",
   "id": "19c39148",
   "metadata": {},
   "source": [
    "# Riemann Integrale mit Ober- und Untersumme, Trapezregel\n",
    "\n",
    "Erklärung der Methoden zur `Numerischen Integration`\n",
    "\n",
    "Erstellung einer Funktion, welche für verschiedene Mathematischen Funktionen und Integrationstypen das Integral berechnet.\n",
    "\n",
    "*Achtung*: Definitionslücken und Nullstellen"
   ]
  },
  {
   "cell_type": "code",
   "execution_count": 13,
   "id": "0333cbc8",
   "metadata": {},
   "outputs": [
    {
     "name": "stdout",
     "output_type": "stream",
     "text": [
      "10.95\n",
      "10.049999999999999\n"
     ]
    }
   ],
   "source": [
    "class Integration:\n",
    "    def __init__(self, function):\n",
    "        self.function = function\n",
    "\n",
    "    def evalFunctionAt(self, x):\n",
    "        return x\n",
    "\n",
    "    def untersumme(self, start, end, n):\n",
    "        sum = 0\n",
    "        width = abs(start - end) / n\n",
    "        for i in range(n):\n",
    "            x = start + i * width\n",
    "            sum += self.evalFunctionAt(x) * width\n",
    "        return sum\n",
    "    \n",
    "    def obersumme(self, start, end, n):\n",
    "        sum = 0\n",
    "        width = abs(start - end) / n\n",
    "        for i in range(1, n+1):\n",
    "            x = start + i * width\n",
    "            sum += self.evalFunctionAt(x) * width\n",
    "        return sum\n",
    "    \n",
    "i = Integration(\"x^2\")\n",
    "print(i.obersumme(2, 5, 10))\n",
    "print(i.untersumme(2, 5, 10))"
   ]
  }
 ],
 "metadata": {
  "kernelspec": {
   "display_name": "Python 3",
   "language": "python",
   "name": "python3"
  },
  "language_info": {
   "codemirror_mode": {
    "name": "ipython",
    "version": 3
   },
   "file_extension": ".py",
   "mimetype": "text/x-python",
   "name": "python",
   "nbconvert_exporter": "python",
   "pygments_lexer": "ipython3",
   "version": "3.13.3"
  }
 },
 "nbformat": 4,
 "nbformat_minor": 5
}
