{
 "cells": [
  {
   "cell_type": "code",
   "execution_count": null,
   "id": "12811416",
   "metadata": {},
   "outputs": [],
   "source": []
  },
  {
   "cell_type": "markdown",
   "id": "19c39148",
   "metadata": {},
   "source": [
    "# Riemann Integrale mit Ober- und Untersumme, Trapezregel\n",
    "\n",
    "Die Nummerische Integration findet seine Anwendung, bei Funktionen, die näherungsweise berechnet werden müssen. Da z.B. keine Stammfunktion bekannt ist oder eine symbolische Integration nicht praktikabel ist.\n",
    "\n",
    "Die drei Grundmethoden, die wir hier betrachten werden, sind:\n",
    "- Obersumme\n",
    "- Untersumme\n",
    "- Trapezregel\n",
    "\n",
    "# Worum geht es?\n",
    "Um die größe einer Fläche unterhalb einer Kurve zu berechnen z.B.: f(x) = sin(x) von x= 0 bix x= pi.\n",
    "Diese fläche unterhalb der Kurve in dem Intervall von 0 - pi bezeichnen wir als \n",
    "Integral \\(\\int_{0}^{\\pi} sin(x) \\,dx\\). \n",
    "\n",
    "## Die Grundidee: \n",
    "Um das Problem zu lösen, zerlegen wir die Fläche in ganz viele kleine formen.\n",
    "### Zerteilen\n",
    "Wir Zerlegen das Intervall [a, b] in ganz kleine gleich breite Abschnitte z.B. 10 Stück.\n",
    "Die Breite jedes Abschnitts nennen wir $\\vec{\\Delta}$\n",
    "\n",
    "### Form drüberlegen\n",
    "Jede dieser formen (Rechteck oder Trapez) legst du nun auf die Kurve und misst deren Fläche und addierst alle auf.\n",
    "In desto mehr teil du die Fläche zerteilst, desto exakter nähert sich die Summe der echten Fläche an.\n",
    "\n",
    "## 3 Varianten\n",
    "Um die Fläche zu unterteilen, gibt es drei unterschiedliche varianten.\n",
    "### Untersumme\n",
    "Bei der Untersumme wählen wir als die Rechteck höhe, den kleinsten funktionswert innerhalb des rechtecks. \n",
    "Das Rechteck befindet sich also immer unterhalb des Rechtecks. \n",
    "Die Summe liefert also zu wenig Fläche, und wir unterschätzen.\n",
    "\n",
    "### Obersumme\n",
    "Bei der Obersumme wählen wir als die Rechteck höhe, den höchsten funktionswert innerhalb des rechtecks. \n",
    "Die kurve befindet sich also immer innerhalb des rechtecks.\n",
    "Die Summe liefert also zu viel Fläche, und wir überschätzen.\n",
    "\n",
    "### Trapezregel\n",
    "Bei der Trapezregel wählen wir statt der Rechtecke ein Trapez.\n",
    "Wobei die linke und rechte höhe, die jeweiligen funktionswerte der Randpunkte sind. \n",
    "Durch diese Methode wird der fehler minimiert.\n",
    "Wodurch die Summe exacter an der echten Fläche ist. \n",
    "\n",
    "\n",
    "# Mathematischer Hintergrund\n",
    "## Definition (Ober- Untersumme)\n",
    "\n",
    "## Satz (Riemann-Integrierbarkeit)\n",
    "Eine Funktion ist Riemann Integrierbar, wenn sie beschränkt ist. \n",
    "\n",
    "\n",
    "=========\n",
    "\n",
    "Erklärung der Methoden zur `Numerischen Integration`\n",
    "\n",
    "Erstellung einer Funktion, welche für verschiedene Mathematischen Funktionen und Integrationstypen das Integral berechnet.\n",
    "\n",
    "*Achtung*: Definitionslücken und Nullstellen"
   ]
  },
  {
   "cell_type": "code",
   "execution_count": null,
   "id": "0333cbc8",
   "metadata": {},
   "outputs": [
    {
     "name": "stdout",
     "output_type": "stream",
     "text": [
      "10.95\n",
      "10.049999999999999\n"
     ]
    }
   ],
   "source": [
    "\n",
    "\n",
    "class Integration:\n",
    "    def __init__(self, function):\n",
    "        self.function = function\n",
    "\n",
    "    def evalFunctionAt(self, x):\n",
    "        return x\n",
    "\n",
    "    def untersumme(self, start, end, n):\n",
    "        sum = 0\n",
    "        width = abs(start - end) / n\n",
    "        for i in range(n):\n",
    "            x = start + i * width\n",
    "            sum += self.evalFunctionAt(x) * width\n",
    "        return sum\n",
    "    \n",
    "    def obersumme(self, start, end, n):\n",
    "        sum = 0\n",
    "        width = abs(start - end) / n\n",
    "        for i in range(1, n+1):\n",
    "            x = start + i * width\n",
    "            sum += self.evalFunctionAt(x) * width\n",
    "        return sum\n",
    "    \n",
    "i = Integration(\"x^2\")\n",
    "print(i.obersumme(2, 5, 10))\n",
    "print(i.untersumme(2, 5, 10))"
   ]
  }
 ],
 "metadata": {
  "kernelspec": {
   "display_name": "Python 3",
   "language": "python",
   "name": "python3"
  },
  "language_info": {
   "codemirror_mode": {
    "name": "ipython",
    "version": 3
   },
   "file_extension": ".py",
   "mimetype": "text/x-python",
   "name": "python",
   "nbconvert_exporter": "python",
   "pygments_lexer": "ipython3",
   "version": "3.11.1"
  }
 },
 "nbformat": 4,
 "nbformat_minor": 5
}
