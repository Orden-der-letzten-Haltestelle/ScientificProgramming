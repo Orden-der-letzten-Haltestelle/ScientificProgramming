{
 "cells": [
  {
   "cell_type": "markdown",
   "id": "1ffbc8da",
   "metadata": {},
   "source": [
    "# Darstellung der Integrationsmethode\n",
    "\n",
    "Hier sollen die Entwickelten Algorithmen aus Teil 1 und Teil 2 visualisiert werden."
   ]
  }
 ],
 "metadata": {
  "language_info": {
   "name": "python"
  }
 },
 "nbformat": 4,
 "nbformat_minor": 5
}
