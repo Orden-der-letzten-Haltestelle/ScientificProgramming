{
 "cells": [
  {
   "cell_type": "markdown",
   "id": "35e5ecde",
   "metadata": {},
   "source": [
    "# Test der numerischen Integration\n",
    "\n",
    "Hier sollen verschieden Integrale auf ihre Richtigkeit überprüft werden.\n",
    "\n",
    "$\\sin(x)\\in[0, 2\\pi]$, $x^2-4x+2\\in[-3, 3]$, $e^x\\in[0, 10]$\n",
    "\n",
    "Zudem soll die Annäherung an den echten Integrationswert bei feiner werdenden Balken unseren Integrationsfunktion.\n",
    "\n",
    "Hierzu sollen wir die Mathematischen Funktionen um ihre Stammfunktion erweitern. Mit diesem können wir den echten Integrationswert bestimmen."
   ]
  }
 ],
 "metadata": {
  "language_info": {
   "name": "python"
  }
 },
 "nbformat": 4,
 "nbformat_minor": 5
}
