{
 "cells": [
  {
   "cell_type": "markdown",
   "id": "7575e6ed",
   "metadata": {},
   "source": [
    "# Grenzen numerischer Integration\n",
    "\n",
    "Numerische Integration für\n",
    "\n",
    "$\\sin((x+\\frac{1}{32})*16\\pi)\\in[0,1]$\n",
    "\n",
    "mit Obersumme, Untersumme oder Trapezregel mit Aufteilung der Intervalle mit [2, 4, 8, 16] und erkläre die Ergebnisse.\n",
    "\n",
    "Gibt es Kriterien, wann die numerische Integration gut sind?\n",
    "\n",
    "`Optional`: Beispiele für die [Gaußsche Integration](https://de.wikipedia.org/wiki/Fehlerfunktion)"
   ]
  }
 ],
 "metadata": {
  "language_info": {
   "name": "python"
  }
 },
 "nbformat": 4,
 "nbformat_minor": 5
}
